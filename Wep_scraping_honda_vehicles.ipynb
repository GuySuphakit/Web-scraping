{
 "cells": [
  {
   "cell_type": "markdown",
   "id": "931a2d92",
   "metadata": {},
   "source": [
    "# scrape Honda vehicles\n",
    "* webpage: https://www.honda.co.th/models"
   ]
  },
  {
   "cell_type": "code",
   "execution_count": 1,
   "id": "ba009c02",
   "metadata": {},
   "outputs": [],
   "source": [
    "import sys\n",
    "import re\n",
    "import io\n",
    "import requests\n",
    "\n",
    "import pandas as pd\n",
    "import numpy as np\n",
    "\n",
    "from bs4 import BeautifulSoup\n",
    "from PIL import Image # pillow package (Python Image Library)\n",
    "\n",
    "%matplotlib inline\n",
    "%config InlineBackend.figure_format='retina'"
   ]
  },
  {
   "cell_type": "code",
   "execution_count": 3,
   "id": "c7ad33e3",
   "metadata": {},
   "outputs": [
    {
     "name": "stdout",
     "output_type": "stream",
     "text": [
      "pandas version = 1.2.3\n",
      "2021-04-07 14:41:23.803652\n"
     ]
    }
   ],
   "source": [
    "print(f'pandas version = {pd.__version__}')\n",
    "print(pd.Timestamp.now())"
   ]
  },
  {
   "cell_type": "code",
   "execution_count": 4,
   "id": "f75d05dc",
   "metadata": {},
   "outputs": [],
   "source": [
    "from IPython.display import HTML\n",
    "pd.set_option('display.max_colwidth', 0)"
   ]
  },
  {
   "cell_type": "code",
   "execution_count": 6,
   "id": "2b340d84",
   "metadata": {},
   "outputs": [],
   "source": [
    "url='https://www.honda.co.th/models'\n",
    "with requests.session() as s:\n",
    "    r = s.get(url)\n",
    "    r.text[:100]"
   ]
  },
  {
   "cell_type": "code",
   "execution_count": 7,
   "id": "a0801b0f",
   "metadata": {},
   "outputs": [
    {
     "data": {
      "text/plain": [
       "bs4.BeautifulSoup"
      ]
     },
     "execution_count": 7,
     "metadata": {},
     "output_type": "execute_result"
    }
   ],
   "source": [
    "s = BeautifulSoup(r.text, 'lxml')\n",
    "type(s)"
   ]
  },
  {
   "cell_type": "code",
   "execution_count": 8,
   "id": "cae74cde",
   "metadata": {},
   "outputs": [
    {
     "name": "stdout",
     "output_type": "stream",
     "text": [
      "13\n",
      "<div class=\"model_overview_list\" data-aos=\"fade-up\" data-aos-duration=\"900\">\n",
      " <a class=\"model_overview_link gtm-model-cityehev\" href=\"cityehev\" target=\"_blank\">\n",
      "  <div class=\"tag_new\">\n",
      "   ใหม่\n",
      "  </div>\n",
      "  <div class=\"model_overview_list_logo\">\n",
      "   <img alt=\"ฮอนด้า City e:HEV\" src=\"https://www.honda.co.th/uploads/car_models/1cb300a181a28cfd97704f57892beada81.png\"/>\n",
      "  </div>\n",
      "  <div class=\"model_overview_list_img\">\n",
      "   <img alt=\"ฮอนด้า City e:HEV\" src=\"https://www.honda.co.th/uploads/car_models/adefeba31088626dfb607d41ea6229cd50.png\"/>\n",
      "  </div>\n",
      "  <div class=\"model_overview_list_btn\">\n",
      "   Honda City e:HEV\n",
      "   <span class=\"arrow_next\">\n",
      "   </span>\n",
      "  </div>\n",
      " </a>\n",
      " <!-- model_overview_link -->\n",
      " <div class=\"model_overview_list_detail\">\n",
      "  <div class=\"model_overview_list_txt\">\n",
      "   สัมผัสขุมพลังความแรง ประหยัดน้ำมันดีเยี่ยม พร้อมเทคโนโลยีความปลอดภัยอัจฉริยะ ให้คุณพุ่งทะยานสู่อนาคตได้อย่างมั่นใจ\n",
      "  </div>\n",
      "  <div class=\"model_overview_list_txt_price\">\n",
      "   เริ่มต้น 839,000 บาท\n",
      "  </div>\n",
      " </div>\n",
      "</div>\n",
      "\n"
     ]
    }
   ],
   "source": [
    "el=s.select('div.model_overview_list')\n",
    "\n",
    "print(len(el))\n",
    "print(el[1].prettify())"
   ]
  },
  {
   "cell_type": "code",
   "execution_count": 9,
   "id": "701a29e8",
   "metadata": {},
   "outputs": [],
   "source": [
    "e=el[1]"
   ]
  },
  {
   "cell_type": "code",
   "execution_count": 10,
   "id": "4374c7b4",
   "metadata": {},
   "outputs": [
    {
     "name": "stdout",
     "output_type": "stream",
     "text": [
      "<div class=\"model_overview_list\" data-aos=\"fade-up\" data-aos-duration=\"900\">\n",
      " <a class=\"model_overview_link gtm-model-cityehev\" href=\"cityehev\" target=\"_blank\">\n",
      "  <div class=\"tag_new\">\n",
      "   ใหม่\n",
      "  </div>\n",
      "  <div class=\"model_overview_list_logo\">\n",
      "   <img alt=\"ฮอนด้า City e:HEV\" src=\"https://www.honda.co.th/uploads/car_models/1cb300a181a28cfd97704f57892beada81.png\"/>\n",
      "  </div>\n",
      "  <div class=\"model_overview_list_img\">\n",
      "   <img alt=\"ฮอนด้า City e:HEV\" src=\"https://www.honda.co.th/uploads/car_models/adefeba31088626dfb607d41ea6229cd50.png\"/>\n",
      "  </div>\n",
      "  <div class=\"model_overview_list_btn\">\n",
      "   Honda City e:HEV\n",
      "   <span class=\"arrow_next\">\n",
      "   </span>\n",
      "  </div>\n",
      " </a>\n",
      " <!-- model_overview_link -->\n",
      " <div class=\"model_overview_list_detail\">\n",
      "  <div class=\"model_overview_list_txt\">\n",
      "   สัมผัสขุมพลังความแรง ประหยัดน้ำมันดีเยี่ยม พร้อมเทคโนโลยีความปลอดภัยอัจฉริยะ ให้คุณพุ่งทะยานสู่อนาคตได้อย่างมั่นใจ\n",
      "  </div>\n",
      "  <div class=\"model_overview_list_txt_price\">\n",
      "   เริ่มต้น 839,000 บาท\n",
      "  </div>\n",
      " </div>\n",
      "</div>\n",
      "\n"
     ]
    }
   ],
   "source": [
    "print(e.prettify())"
   ]
  },
  {
   "cell_type": "code",
   "execution_count": 11,
   "id": "687a9af8",
   "metadata": {},
   "outputs": [
    {
     "data": {
      "text/plain": [
       "'https://www.honda.co.th/uploads/car_models/adefeba31088626dfb607d41ea6229cd50.png'"
      ]
     },
     "execution_count": 11,
     "metadata": {},
     "output_type": "execute_result"
    }
   ],
   "source": [
    "img_url=e.select_one('div.model_overview_list_img>img')['src']\n",
    "img_url"
   ]
  },
  {
   "cell_type": "code",
   "execution_count": 12,
   "id": "e2328b94",
   "metadata": {},
   "outputs": [
    {
     "data": {
      "text/plain": [
       "'Honda City e:HEV'"
      ]
     },
     "execution_count": 12,
     "metadata": {},
     "output_type": "execute_result"
    }
   ],
   "source": [
    "model=e.select_one('div.model_overview_list_btn').text.strip()\n",
    "model"
   ]
  },
  {
   "cell_type": "code",
   "execution_count": 14,
   "id": "3864c050",
   "metadata": {},
   "outputs": [
    {
     "data": {
      "text/plain": [
       "839000"
      ]
     },
     "execution_count": 14,
     "metadata": {},
     "output_type": "execute_result"
    }
   ],
   "source": [
    "price_thb=pd.to_numeric(e.select_one('div.model_overview_list_txt_price').text.strip().replace('เริ่มต้น ','').replace(' บาท','').replace(',',''))\n",
    "price_thb"
   ]
  },
  {
   "cell_type": "code",
   "execution_count": 15,
   "id": "0933cbf6",
   "metadata": {},
   "outputs": [
    {
     "data": {
      "text/plain": [
       "'สัมผัสขุมพลังความแรง ประหยัดน้ำมันดีเยี่ยม พร้อมเทคโนโลยีความปลอดภัยอัจฉริยะ ให้คุณพุ่งทะยานสู่อนาคตได้อย่างมั่นใจ'"
      ]
     },
     "execution_count": 15,
     "metadata": {},
     "output_type": "execute_result"
    }
   ],
   "source": [
    "overview=e.select_one('div.model_overview_list_txt').text.strip().replace('\\r\\n','')\n",
    "overview"
   ]
  },
  {
   "cell_type": "code",
   "execution_count": 16,
   "id": "a472f621",
   "metadata": {},
   "outputs": [
    {
     "data": {
      "text/html": [
       "<div>\n",
       "<style scoped>\n",
       "    .dataframe tbody tr th:only-of-type {\n",
       "        vertical-align: middle;\n",
       "    }\n",
       "\n",
       "    .dataframe tbody tr th {\n",
       "        vertical-align: top;\n",
       "    }\n",
       "\n",
       "    .dataframe thead th {\n",
       "        text-align: right;\n",
       "    }\n",
       "</style>\n",
       "<table border=\"1\" class=\"dataframe\">\n",
       "  <thead>\n",
       "    <tr style=\"text-align: right;\">\n",
       "      <th></th>\n",
       "      <th>model</th>\n",
       "      <th>price_thb</th>\n",
       "      <th>overview</th>\n",
       "      <th>img_url</th>\n",
       "    </tr>\n",
       "  </thead>\n",
       "  <tbody>\n",
       "    <tr>\n",
       "      <th>0</th>\n",
       "      <td>Honda City</td>\n",
       "      <td>579500</td>\n",
       "      <td>เปลี่ยนทุกมาตรฐานของรถซิตี้คาร์ให้พร้อมขับเคลื่อนพาคุณไปไกลเกินกว่าทุกความคาดหมาย</td>\n",
       "      <td>https://www.honda.co.th/uploads/car_models/8477b370d221d06284c8390fc856056299.png</td>\n",
       "    </tr>\n",
       "    <tr>\n",
       "      <th>1</th>\n",
       "      <td>Honda City e:HEV</td>\n",
       "      <td>839000</td>\n",
       "      <td>สัมผัสขุมพลังความแรง ประหยัดน้ำมันดีเยี่ยม พร้อมเทคโนโลยีความปลอดภัยอัจฉริยะ ให้คุณพุ่งทะยานสู่อนาคตได้อย่างมั่นใจ</td>\n",
       "      <td>https://www.honda.co.th/uploads/car_models/adefeba31088626dfb607d41ea6229cd50.png</td>\n",
       "    </tr>\n",
       "    <tr>\n",
       "      <th>2</th>\n",
       "      <td>Honda City Hatchback</td>\n",
       "      <td>599000</td>\n",
       "      <td>ซิตี้คาร์แฮทช์แบ็ก พร้อมพื้นที่อเนกประสงค์ด้านหลัง และเครื่องยนต์ 1.0 ลิตร เทอร์โบ ให้คุณมูฟไปใช้ชีวิตในแบบตัวเอง</td>\n",
       "      <td>https://www.honda.co.th/uploads/car_models/eea370d2de1e067a56e5e2325a2d9b6463.png</td>\n",
       "    </tr>\n",
       "    <tr>\n",
       "      <th>3</th>\n",
       "      <td>Honda Jazz</td>\n",
       "      <td>555000</td>\n",
       "      <td>รถแฮทช์แบ็ก 5 ประตู สำหรับคนรุ่นใหม่ที่มีไลฟ์สไตล์หลากหลาย ให้คุณใช้ชีวิตได้อย่างไร้ขีดจำกัด</td>\n",
       "      <td>https://www.honda.co.th/uploads/car_models/15660956dd6d61ee6bdae8ca873367ac47.png</td>\n",
       "    </tr>\n",
       "    <tr>\n",
       "      <th>4</th>\n",
       "      <td>Honda Civic</td>\n",
       "      <td>874000</td>\n",
       "      <td>ที่มาพร้อมเทคโนโลยีความปลอดภัยล้ำสมัย Honda SENSING ให้ความมั่นใจในทุกเส้นทาง</td>\n",
       "      <td>https://www.honda.co.th/uploads/car_models/c365708102fada98707247cc5705b07c82.png</td>\n",
       "    </tr>\n",
       "    <tr>\n",
       "      <th>5</th>\n",
       "      <td>Honda Civic Hatchback</td>\n",
       "      <td>1229000</td>\n",
       "      <td>รถแฮทช์แบ็ก 5 ประตู ดีไซน์สปอร์ต โฉบเฉี่ยว ขับขี่สนุกเร้าใจไปกับเครื่องยนต์ VTEC TURBO</td>\n",
       "      <td>https://www.honda.co.th/uploads/car_models/98a14ee47ffb6b0b6f18bd2a2596108b18.png</td>\n",
       "    </tr>\n",
       "    <tr>\n",
       "      <th>6</th>\n",
       "      <td>Honda Accord</td>\n",
       "      <td>1475000</td>\n",
       "      <td>ยนตรกรรมสปอร์ตพรีเมียม นิยามใหม่แห่งเทคโนโลยีการขับเคลื่อน สู่โลกบทใหม่แห่งยนตรกรรม</td>\n",
       "      <td>https://www.honda.co.th/uploads/car_models/350749aa28f4cf3d0189aea07ab2a8e779.png</td>\n",
       "    </tr>\n",
       "    <tr>\n",
       "      <th>7</th>\n",
       "      <td>Honda CR-V</td>\n",
       "      <td>1369000</td>\n",
       "      <td>เอสยูวีระดับพรีเมียม ดีไซน์หรูหรา แข็งแกร่งทุกมิติ พร้อมพลังขับเคลื่อนด้วยเครื่องยนต์ดีเซลและเบนซิน</td>\n",
       "      <td>https://www.honda.co.th/uploads/car_models/52c345d514984a2edbd78e2a4728de2871.png</td>\n",
       "    </tr>\n",
       "    <tr>\n",
       "      <th>8</th>\n",
       "      <td>Honda HR-V</td>\n",
       "      <td>949000</td>\n",
       "      <td>เอสยูวีระดับคอมแพคท์ สะดวกครบครัน พร้อมตอบโจทย์การใช้งานที่หลากหลาย เข้ากับไลฟ์สไตล์คนรุ่นใหม่</td>\n",
       "      <td>https://www.honda.co.th/uploads/car_models/bc924e17caac7397b49ec508ad94555876.png</td>\n",
       "    </tr>\n",
       "    <tr>\n",
       "      <th>9</th>\n",
       "      <td>Honda BR-V</td>\n",
       "      <td>765000</td>\n",
       "      <td>รถแอคทีฟสปอร์ตครอสโอเวอร์ ที่พร้อมพาคุณออกไปลุยทุกเส้นทางอันท้าทาย สู่ทุกจุดหมายในทุกสไตล์ที่เป็นคุณ</td>\n",
       "      <td>https://www.honda.co.th/uploads/car_models/d94a659445fd8bf46370c573fca14ddc50.png</td>\n",
       "    </tr>\n",
       "    <tr>\n",
       "      <th>10</th>\n",
       "      <td>Honda Mobilio</td>\n",
       "      <td>659000</td>\n",
       "      <td>รถอเนกประสงค์ขนาดซับคอมแพคท์ รองรับทุกการใช้งาน ตอบโจทย์คนเมืองยุคใหม่ได้อย่างสมบูรณ์แบบ</td>\n",
       "      <td>https://www.honda.co.th/uploads/car_models/1f9a31915343f5f1709ceee2e7500c3582.png</td>\n",
       "    </tr>\n",
       "    <tr>\n",
       "      <th>11</th>\n",
       "      <td>Honda Brio Amaze</td>\n",
       "      <td>517000</td>\n",
       "      <td>อีโคคาร์ ที่ให้การขับขี่ที่สะดวกคล่องตัว ครบครันด้วยเทคโนโลยีทันสมัย และมีอัตราการประหยัดน้ำมันดีเยี่ยม</td>\n",
       "      <td>https://www.honda.co.th/uploads/car_models/8660deb88809e0e8891f8608de9d6f6070.png</td>\n",
       "    </tr>\n",
       "    <tr>\n",
       "      <th>12</th>\n",
       "      <td>Honda Brio</td>\n",
       "      <td>495000</td>\n",
       "      <td>อีโคคาร์อเนกประสงค์ 5 ประตู ดีไซน์สปอร์ตโฉบเฉี่ยว คุ้มค่าในการใช้งาน ตอบสนองทุกความต้องการของผู้ขับขี่</td>\n",
       "      <td>https://www.honda.co.th/uploads/car_models/4f8375d5c17dffcadf7f119c0401ab0347.png</td>\n",
       "    </tr>\n",
       "  </tbody>\n",
       "</table>\n",
       "</div>"
      ],
      "text/plain": [
       "                    model  price_thb  \\\n",
       "0   Honda City             579500      \n",
       "1   Honda City e:HEV       839000      \n",
       "2   Honda City Hatchback   599000      \n",
       "3   Honda Jazz             555000      \n",
       "4   Honda Civic            874000      \n",
       "5   Honda Civic Hatchback  1229000     \n",
       "6   Honda Accord           1475000     \n",
       "7   Honda CR-V             1369000     \n",
       "8   Honda HR-V             949000      \n",
       "9   Honda BR-V             765000      \n",
       "10  Honda Mobilio          659000      \n",
       "11  Honda Brio Amaze       517000      \n",
       "12  Honda Brio             495000      \n",
       "\n",
       "                                                                                                              overview  \\\n",
       "0   เปลี่ยนทุกมาตรฐานของรถซิตี้คาร์ให้พร้อมขับเคลื่อนพาคุณไปไกลเกินกว่าทุกความคาดหมาย                                    \n",
       "1   สัมผัสขุมพลังความแรง ประหยัดน้ำมันดีเยี่ยม พร้อมเทคโนโลยีความปลอดภัยอัจฉริยะ ให้คุณพุ่งทะยานสู่อนาคตได้อย่างมั่นใจ   \n",
       "2   ซิตี้คาร์แฮทช์แบ็ก พร้อมพื้นที่อเนกประสงค์ด้านหลัง และเครื่องยนต์ 1.0 ลิตร เทอร์โบ ให้คุณมูฟไปใช้ชีวิตในแบบตัวเอง    \n",
       "3   รถแฮทช์แบ็ก 5 ประตู สำหรับคนรุ่นใหม่ที่มีไลฟ์สไตล์หลากหลาย ให้คุณใช้ชีวิตได้อย่างไร้ขีดจำกัด                         \n",
       "4   ที่มาพร้อมเทคโนโลยีความปลอดภัยล้ำสมัย Honda SENSING ให้ความมั่นใจในทุกเส้นทาง                                        \n",
       "5   รถแฮทช์แบ็ก 5 ประตู ดีไซน์สปอร์ต โฉบเฉี่ยว ขับขี่สนุกเร้าใจไปกับเครื่องยนต์ VTEC TURBO                               \n",
       "6   ยนตรกรรมสปอร์ตพรีเมียม นิยามใหม่แห่งเทคโนโลยีการขับเคลื่อน สู่โลกบทใหม่แห่งยนตรกรรม                                  \n",
       "7   เอสยูวีระดับพรีเมียม ดีไซน์หรูหรา แข็งแกร่งทุกมิติ พร้อมพลังขับเคลื่อนด้วยเครื่องยนต์ดีเซลและเบนซิน                  \n",
       "8   เอสยูวีระดับคอมแพคท์ สะดวกครบครัน พร้อมตอบโจทย์การใช้งานที่หลากหลาย เข้ากับไลฟ์สไตล์คนรุ่นใหม่                       \n",
       "9   รถแอคทีฟสปอร์ตครอสโอเวอร์ ที่พร้อมพาคุณออกไปลุยทุกเส้นทางอันท้าทาย สู่ทุกจุดหมายในทุกสไตล์ที่เป็นคุณ                 \n",
       "10  รถอเนกประสงค์ขนาดซับคอมแพคท์ รองรับทุกการใช้งาน ตอบโจทย์คนเมืองยุคใหม่ได้อย่างสมบูรณ์แบบ                             \n",
       "11  อีโคคาร์ ที่ให้การขับขี่ที่สะดวกคล่องตัว ครบครันด้วยเทคโนโลยีทันสมัย และมีอัตราการประหยัดน้ำมันดีเยี่ยม              \n",
       "12  อีโคคาร์อเนกประสงค์ 5 ประตู ดีไซน์สปอร์ตโฉบเฉี่ยว คุ้มค่าในการใช้งาน ตอบสนองทุกความต้องการของผู้ขับขี่               \n",
       "\n",
       "                                                                              img_url  \n",
       "0   https://www.honda.co.th/uploads/car_models/8477b370d221d06284c8390fc856056299.png  \n",
       "1   https://www.honda.co.th/uploads/car_models/adefeba31088626dfb607d41ea6229cd50.png  \n",
       "2   https://www.honda.co.th/uploads/car_models/eea370d2de1e067a56e5e2325a2d9b6463.png  \n",
       "3   https://www.honda.co.th/uploads/car_models/15660956dd6d61ee6bdae8ca873367ac47.png  \n",
       "4   https://www.honda.co.th/uploads/car_models/c365708102fada98707247cc5705b07c82.png  \n",
       "5   https://www.honda.co.th/uploads/car_models/98a14ee47ffb6b0b6f18bd2a2596108b18.png  \n",
       "6   https://www.honda.co.th/uploads/car_models/350749aa28f4cf3d0189aea07ab2a8e779.png  \n",
       "7   https://www.honda.co.th/uploads/car_models/52c345d514984a2edbd78e2a4728de2871.png  \n",
       "8   https://www.honda.co.th/uploads/car_models/bc924e17caac7397b49ec508ad94555876.png  \n",
       "9   https://www.honda.co.th/uploads/car_models/d94a659445fd8bf46370c573fca14ddc50.png  \n",
       "10  https://www.honda.co.th/uploads/car_models/1f9a31915343f5f1709ceee2e7500c3582.png  \n",
       "11  https://www.honda.co.th/uploads/car_models/8660deb88809e0e8891f8608de9d6f6070.png  \n",
       "12  https://www.honda.co.th/uploads/car_models/4f8375d5c17dffcadf7f119c0401ab0347.png  "
      ]
     },
     "execution_count": 16,
     "metadata": {},
     "output_type": "execute_result"
    }
   ],
   "source": [
    "records=[]\n",
    "for e in el[:]:\n",
    "    img_url=e.select_one('div.model_overview_list_img>img')['src']\n",
    "    model=e.select_one('div.model_overview_list_btn').text.strip()\n",
    "    price_thb=e.select_one('div.model_overview_list_txt_price').text.strip()\n",
    "    price_thb=int(re.sub('\\D', '', price_thb))\n",
    "    overview=re.sub('\\r\\n', '', e.select_one('div.model_overview_list_txt').text.strip())\n",
    "    records.append((model, price_thb, overview, img_url))\n",
    "df=pd.DataFrame(records, columns=['model', 'price_thb', 'overview', 'img_url'])\n",
    "df"
   ]
  },
  {
   "cell_type": "code",
   "execution_count": 17,
   "id": "c8a90a92",
   "metadata": {},
   "outputs": [],
   "source": [
    "def to_html_img(url, alt=None, width=100):\n",
    "    if alt==None:\n",
    "        alt=''\n",
    "    return f'<img alt=\"{alt}\" src=\"{url}\" width=\"{width}\"/>'\n",
    "\n",
    "def to_html_a(url, text):\n",
    "    if text==None:\n",
    "        text=''\n",
    "    return f'<a href=\"{url}\">{text}</a>'\n",
    "\n",
    "def save_img(content, imgfilename):\n",
    "    '''\n",
    "    save image to file\n",
    "    '''\n",
    "    with open(imgfilename, 'wb') as f:\n",
    "        f.write(content)\n",
    "        \n",
    "        \n",
    "def download_img(url, imgfilename=None):\n",
    "    '''\n",
    "    download image from url\n",
    "    '''\n",
    "    r=requests.get(url)\n",
    "    if imgfilename==None:\n",
    "        imgfilename = f'{str(uuid.uuid1())[:8]}.png'\n",
    "    save_img(r.content, imgfilename)\n",
    "    print(f'{imgfilename} saved')"
   ]
  },
  {
   "cell_type": "code",
   "execution_count": 22,
   "id": "953307c6",
   "metadata": {},
   "outputs": [
    {
     "data": {
      "text/html": [
       "<div>\n",
       "<style scoped>\n",
       "    .dataframe tbody tr th:only-of-type {\n",
       "        vertical-align: middle;\n",
       "    }\n",
       "\n",
       "    .dataframe tbody tr th {\n",
       "        vertical-align: top;\n",
       "    }\n",
       "\n",
       "    .dataframe thead th {\n",
       "        text-align: right;\n",
       "    }\n",
       "</style>\n",
       "<table border=\"1\" class=\"dataframe\">\n",
       "  <thead>\n",
       "    <tr style=\"text-align: right;\">\n",
       "      <th></th>\n",
       "      <th>model</th>\n",
       "      <th>price_thb</th>\n",
       "      <th>overview</th>\n",
       "      <th>img_url</th>\n",
       "      <th>img</th>\n",
       "    </tr>\n",
       "  </thead>\n",
       "  <tbody>\n",
       "    <tr>\n",
       "      <th>0</th>\n",
       "      <td>Honda City</td>\n",
       "      <td>579500</td>\n",
       "      <td>เปลี่ยนทุกมาตรฐานของรถซิตี้คาร์ให้พร้อมขับเคลื่อนพาคุณไปไกลเกินกว่าทุกความคาดหมาย</td>\n",
       "      <td>https://www.honda.co.th/uploads/car_models/8477b370d221d06284c8390fc856056299.png</td>\n",
       "      <td>&lt;img alt=\"Honda City\" src=\"https://www.honda.co.th/uploads/car_models/8477b370d221d06284c8390fc856056299.png\" width=\"250\"/&gt;</td>\n",
       "    </tr>\n",
       "    <tr>\n",
       "      <th>1</th>\n",
       "      <td>Honda City e:HEV</td>\n",
       "      <td>839000</td>\n",
       "      <td>สัมผัสขุมพลังความแรง ประหยัดน้ำมันดีเยี่ยม พร้อมเทคโนโลยีความปลอดภัยอัจฉริยะ ให้คุณพุ่งทะยานสู่อนาคตได้อย่างมั่นใจ</td>\n",
       "      <td>https://www.honda.co.th/uploads/car_models/adefeba31088626dfb607d41ea6229cd50.png</td>\n",
       "      <td>&lt;img alt=\"Honda City e:HEV\" src=\"https://www.honda.co.th/uploads/car_models/adefeba31088626dfb607d41ea6229cd50.png\" width=\"250\"/&gt;</td>\n",
       "    </tr>\n",
       "    <tr>\n",
       "      <th>2</th>\n",
       "      <td>Honda City Hatchback</td>\n",
       "      <td>599000</td>\n",
       "      <td>ซิตี้คาร์แฮทช์แบ็ก พร้อมพื้นที่อเนกประสงค์ด้านหลัง และเครื่องยนต์ 1.0 ลิตร เทอร์โบ ให้คุณมูฟไปใช้ชีวิตในแบบตัวเอง</td>\n",
       "      <td>https://www.honda.co.th/uploads/car_models/eea370d2de1e067a56e5e2325a2d9b6463.png</td>\n",
       "      <td>&lt;img alt=\"Honda City Hatchback\" src=\"https://www.honda.co.th/uploads/car_models/eea370d2de1e067a56e5e2325a2d9b6463.png\" width=\"250\"/&gt;</td>\n",
       "    </tr>\n",
       "    <tr>\n",
       "      <th>3</th>\n",
       "      <td>Honda Jazz</td>\n",
       "      <td>555000</td>\n",
       "      <td>รถแฮทช์แบ็ก 5 ประตู สำหรับคนรุ่นใหม่ที่มีไลฟ์สไตล์หลากหลาย ให้คุณใช้ชีวิตได้อย่างไร้ขีดจำกัด</td>\n",
       "      <td>https://www.honda.co.th/uploads/car_models/15660956dd6d61ee6bdae8ca873367ac47.png</td>\n",
       "      <td>&lt;img alt=\"Honda Jazz\" src=\"https://www.honda.co.th/uploads/car_models/15660956dd6d61ee6bdae8ca873367ac47.png\" width=\"250\"/&gt;</td>\n",
       "    </tr>\n",
       "    <tr>\n",
       "      <th>4</th>\n",
       "      <td>Honda Civic</td>\n",
       "      <td>874000</td>\n",
       "      <td>ที่มาพร้อมเทคโนโลยีความปลอดภัยล้ำสมัย Honda SENSING ให้ความมั่นใจในทุกเส้นทาง</td>\n",
       "      <td>https://www.honda.co.th/uploads/car_models/c365708102fada98707247cc5705b07c82.png</td>\n",
       "      <td>&lt;img alt=\"Honda Civic\" src=\"https://www.honda.co.th/uploads/car_models/c365708102fada98707247cc5705b07c82.png\" width=\"250\"/&gt;</td>\n",
       "    </tr>\n",
       "  </tbody>\n",
       "</table>\n",
       "</div>"
      ],
      "text/plain": [
       "                  model  price_thb  \\\n",
       "0  Honda City            579500      \n",
       "1  Honda City e:HEV      839000      \n",
       "2  Honda City Hatchback  599000      \n",
       "3  Honda Jazz            555000      \n",
       "4  Honda Civic           874000      \n",
       "\n",
       "                                                                                                             overview  \\\n",
       "0  เปลี่ยนทุกมาตรฐานของรถซิตี้คาร์ให้พร้อมขับเคลื่อนพาคุณไปไกลเกินกว่าทุกความคาดหมาย                                    \n",
       "1  สัมผัสขุมพลังความแรง ประหยัดน้ำมันดีเยี่ยม พร้อมเทคโนโลยีความปลอดภัยอัจฉริยะ ให้คุณพุ่งทะยานสู่อนาคตได้อย่างมั่นใจ   \n",
       "2  ซิตี้คาร์แฮทช์แบ็ก พร้อมพื้นที่อเนกประสงค์ด้านหลัง และเครื่องยนต์ 1.0 ลิตร เทอร์โบ ให้คุณมูฟไปใช้ชีวิตในแบบตัวเอง    \n",
       "3  รถแฮทช์แบ็ก 5 ประตู สำหรับคนรุ่นใหม่ที่มีไลฟ์สไตล์หลากหลาย ให้คุณใช้ชีวิตได้อย่างไร้ขีดจำกัด                         \n",
       "4  ที่มาพร้อมเทคโนโลยีความปลอดภัยล้ำสมัย Honda SENSING ให้ความมั่นใจในทุกเส้นทาง                                        \n",
       "\n",
       "                                                                             img_url  \\\n",
       "0  https://www.honda.co.th/uploads/car_models/8477b370d221d06284c8390fc856056299.png   \n",
       "1  https://www.honda.co.th/uploads/car_models/adefeba31088626dfb607d41ea6229cd50.png   \n",
       "2  https://www.honda.co.th/uploads/car_models/eea370d2de1e067a56e5e2325a2d9b6463.png   \n",
       "3  https://www.honda.co.th/uploads/car_models/15660956dd6d61ee6bdae8ca873367ac47.png   \n",
       "4  https://www.honda.co.th/uploads/car_models/c365708102fada98707247cc5705b07c82.png   \n",
       "\n",
       "                                                                                                                                     img  \n",
       "0  <img alt=\"Honda City\" src=\"https://www.honda.co.th/uploads/car_models/8477b370d221d06284c8390fc856056299.png\" width=\"250\"/>            \n",
       "1  <img alt=\"Honda City e:HEV\" src=\"https://www.honda.co.th/uploads/car_models/adefeba31088626dfb607d41ea6229cd50.png\" width=\"250\"/>      \n",
       "2  <img alt=\"Honda City Hatchback\" src=\"https://www.honda.co.th/uploads/car_models/eea370d2de1e067a56e5e2325a2d9b6463.png\" width=\"250\"/>  \n",
       "3  <img alt=\"Honda Jazz\" src=\"https://www.honda.co.th/uploads/car_models/15660956dd6d61ee6bdae8ca873367ac47.png\" width=\"250\"/>            \n",
       "4  <img alt=\"Honda Civic\" src=\"https://www.honda.co.th/uploads/car_models/c365708102fada98707247cc5705b07c82.png\" width=\"250\"/>           "
      ]
     },
     "execution_count": 22,
     "metadata": {},
     "output_type": "execute_result"
    }
   ],
   "source": [
    "df['img']=df.apply(lambda r: to_html_img(r['img_url'], r['model'], 250), axis=1)\n",
    "df[:5]"
   ]
  },
  {
   "cell_type": "code",
   "execution_count": 23,
   "id": "32939d4b",
   "metadata": {},
   "outputs": [
    {
     "data": {
      "text/html": [
       "<table border=\"1\" class=\"dataframe\">\n",
       "  <thead>\n",
       "    <tr style=\"text-align: right;\">\n",
       "      <th></th>\n",
       "      <th>model</th>\n",
       "      <th>price_thb</th>\n",
       "      <th>overview</th>\n",
       "      <th>img</th>\n",
       "    </tr>\n",
       "  </thead>\n",
       "  <tbody>\n",
       "    <tr>\n",
       "      <th>0</th>\n",
       "      <td>Honda City</td>\n",
       "      <td>579500</td>\n",
       "      <td>เปลี่ยนทุกมาตรฐานของรถซิตี้คาร์ให้พร้อมขับเคลื่อนพาคุณไปไกลเกินกว่าทุกความคาดหมาย</td>\n",
       "      <td><img alt=\"Honda City\" src=\"https://www.honda.co.th/uploads/car_models/8477b370d221d06284c8390fc856056299.png\" width=\"250\"/></td>\n",
       "    </tr>\n",
       "    <tr>\n",
       "      <th>1</th>\n",
       "      <td>Honda City e:HEV</td>\n",
       "      <td>839000</td>\n",
       "      <td>สัมผัสขุมพลังความแรง ประหยัดน้ำมันดีเยี่ยม พร้อมเทคโนโลยีความปลอดภัยอัจฉริยะ ให้คุณพุ่งทะยานสู่อนาคตได้อย่างมั่นใจ</td>\n",
       "      <td><img alt=\"Honda City e:HEV\" src=\"https://www.honda.co.th/uploads/car_models/adefeba31088626dfb607d41ea6229cd50.png\" width=\"250\"/></td>\n",
       "    </tr>\n",
       "    <tr>\n",
       "      <th>2</th>\n",
       "      <td>Honda City Hatchback</td>\n",
       "      <td>599000</td>\n",
       "      <td>ซิตี้คาร์แฮทช์แบ็ก พร้อมพื้นที่อเนกประสงค์ด้านหลัง และเครื่องยนต์ 1.0 ลิตร เทอร์โบ ให้คุณมูฟไปใช้ชีวิตในแบบตัวเอง</td>\n",
       "      <td><img alt=\"Honda City Hatchback\" src=\"https://www.honda.co.th/uploads/car_models/eea370d2de1e067a56e5e2325a2d9b6463.png\" width=\"250\"/></td>\n",
       "    </tr>\n",
       "    <tr>\n",
       "      <th>3</th>\n",
       "      <td>Honda Jazz</td>\n",
       "      <td>555000</td>\n",
       "      <td>รถแฮทช์แบ็ก 5 ประตู สำหรับคนรุ่นใหม่ที่มีไลฟ์สไตล์หลากหลาย ให้คุณใช้ชีวิตได้อย่างไร้ขีดจำกัด</td>\n",
       "      <td><img alt=\"Honda Jazz\" src=\"https://www.honda.co.th/uploads/car_models/15660956dd6d61ee6bdae8ca873367ac47.png\" width=\"250\"/></td>\n",
       "    </tr>\n",
       "    <tr>\n",
       "      <th>4</th>\n",
       "      <td>Honda Civic</td>\n",
       "      <td>874000</td>\n",
       "      <td>ที่มาพร้อมเทคโนโลยีความปลอดภัยล้ำสมัย Honda SENSING ให้ความมั่นใจในทุกเส้นทาง</td>\n",
       "      <td><img alt=\"Honda Civic\" src=\"https://www.honda.co.th/uploads/car_models/c365708102fada98707247cc5705b07c82.png\" width=\"250\"/></td>\n",
       "    </tr>\n",
       "    <tr>\n",
       "      <th>5</th>\n",
       "      <td>Honda Civic Hatchback</td>\n",
       "      <td>1229000</td>\n",
       "      <td>รถแฮทช์แบ็ก 5 ประตู ดีไซน์สปอร์ต โฉบเฉี่ยว ขับขี่สนุกเร้าใจไปกับเครื่องยนต์ VTEC TURBO</td>\n",
       "      <td><img alt=\"Honda Civic Hatchback\" src=\"https://www.honda.co.th/uploads/car_models/98a14ee47ffb6b0b6f18bd2a2596108b18.png\" width=\"250\"/></td>\n",
       "    </tr>\n",
       "    <tr>\n",
       "      <th>6</th>\n",
       "      <td>Honda Accord</td>\n",
       "      <td>1475000</td>\n",
       "      <td>ยนตรกรรมสปอร์ตพรีเมียม นิยามใหม่แห่งเทคโนโลยีการขับเคลื่อน สู่โลกบทใหม่แห่งยนตรกรรม</td>\n",
       "      <td><img alt=\"Honda Accord\" src=\"https://www.honda.co.th/uploads/car_models/350749aa28f4cf3d0189aea07ab2a8e779.png\" width=\"250\"/></td>\n",
       "    </tr>\n",
       "    <tr>\n",
       "      <th>7</th>\n",
       "      <td>Honda CR-V</td>\n",
       "      <td>1369000</td>\n",
       "      <td>เอสยูวีระดับพรีเมียม ดีไซน์หรูหรา แข็งแกร่งทุกมิติ พร้อมพลังขับเคลื่อนด้วยเครื่องยนต์ดีเซลและเบนซิน</td>\n",
       "      <td><img alt=\"Honda CR-V\" src=\"https://www.honda.co.th/uploads/car_models/52c345d514984a2edbd78e2a4728de2871.png\" width=\"250\"/></td>\n",
       "    </tr>\n",
       "    <tr>\n",
       "      <th>8</th>\n",
       "      <td>Honda HR-V</td>\n",
       "      <td>949000</td>\n",
       "      <td>เอสยูวีระดับคอมแพคท์ สะดวกครบครัน พร้อมตอบโจทย์การใช้งานที่หลากหลาย เข้ากับไลฟ์สไตล์คนรุ่นใหม่</td>\n",
       "      <td><img alt=\"Honda HR-V\" src=\"https://www.honda.co.th/uploads/car_models/bc924e17caac7397b49ec508ad94555876.png\" width=\"250\"/></td>\n",
       "    </tr>\n",
       "    <tr>\n",
       "      <th>9</th>\n",
       "      <td>Honda BR-V</td>\n",
       "      <td>765000</td>\n",
       "      <td>รถแอคทีฟสปอร์ตครอสโอเวอร์ ที่พร้อมพาคุณออกไปลุยทุกเส้นทางอันท้าทาย สู่ทุกจุดหมายในทุกสไตล์ที่เป็นคุณ</td>\n",
       "      <td><img alt=\"Honda BR-V\" src=\"https://www.honda.co.th/uploads/car_models/d94a659445fd8bf46370c573fca14ddc50.png\" width=\"250\"/></td>\n",
       "    </tr>\n",
       "    <tr>\n",
       "      <th>10</th>\n",
       "      <td>Honda Mobilio</td>\n",
       "      <td>659000</td>\n",
       "      <td>รถอเนกประสงค์ขนาดซับคอมแพคท์ รองรับทุกการใช้งาน ตอบโจทย์คนเมืองยุคใหม่ได้อย่างสมบูรณ์แบบ</td>\n",
       "      <td><img alt=\"Honda Mobilio\" src=\"https://www.honda.co.th/uploads/car_models/1f9a31915343f5f1709ceee2e7500c3582.png\" width=\"250\"/></td>\n",
       "    </tr>\n",
       "    <tr>\n",
       "      <th>11</th>\n",
       "      <td>Honda Brio Amaze</td>\n",
       "      <td>517000</td>\n",
       "      <td>อีโคคาร์ ที่ให้การขับขี่ที่สะดวกคล่องตัว ครบครันด้วยเทคโนโลยีทันสมัย และมีอัตราการประหยัดน้ำมันดีเยี่ยม</td>\n",
       "      <td><img alt=\"Honda Brio Amaze\" src=\"https://www.honda.co.th/uploads/car_models/8660deb88809e0e8891f8608de9d6f6070.png\" width=\"250\"/></td>\n",
       "    </tr>\n",
       "    <tr>\n",
       "      <th>12</th>\n",
       "      <td>Honda Brio</td>\n",
       "      <td>495000</td>\n",
       "      <td>อีโคคาร์อเนกประสงค์ 5 ประตู ดีไซน์สปอร์ตโฉบเฉี่ยว คุ้มค่าในการใช้งาน ตอบสนองทุกความต้องการของผู้ขับขี่</td>\n",
       "      <td><img alt=\"Honda Brio\" src=\"https://www.honda.co.th/uploads/car_models/4f8375d5c17dffcadf7f119c0401ab0347.png\" width=\"250\"/></td>\n",
       "    </tr>\n",
       "  </tbody>\n",
       "</table>"
      ],
      "text/plain": [
       "<IPython.core.display.HTML object>"
      ]
     },
     "execution_count": 23,
     "metadata": {},
     "output_type": "execute_result"
    }
   ],
   "source": [
    "HTML(df[:][['model', 'price_thb', 'overview', 'img']].to_html(escape=False))"
   ]
  },
  {
   "cell_type": "markdown",
   "id": "950942d1",
   "metadata": {},
   "source": [
    "# Save img to files"
   ]
  },
  {
   "cell_type": "code",
   "execution_count": 26,
   "id": "f5c41053",
   "metadata": {},
   "outputs": [
    {
     "name": "stdout",
     "output_type": "stream",
     "text": [
      "Honda City.jpg saved\n",
      "Honda City e_HEV.jpg saved\n",
      "Honda City Hatchback.jpg saved\n",
      "Honda Jazz.jpg saved\n",
      "Honda Civic.jpg saved\n",
      "Honda Civic Hatchback.jpg saved\n",
      "Honda Accord.jpg saved\n",
      "Honda CR-V.jpg saved\n",
      "Honda HR-V.jpg saved\n",
      "Honda BR-V.jpg saved\n",
      "Honda Mobilio.jpg saved\n",
      "Honda Brio Amaze.jpg saved\n",
      "Honda Brio.jpg saved\n"
     ]
    },
    {
     "data": {
      "text/plain": [
       "0     None\n",
       "1     None\n",
       "2     None\n",
       "3     None\n",
       "4     None\n",
       "5     None\n",
       "6     None\n",
       "7     None\n",
       "8     None\n",
       "9     None\n",
       "10    None\n",
       "11    None\n",
       "12    None\n",
       "dtype: object"
      ]
     },
     "execution_count": 26,
     "metadata": {},
     "output_type": "execute_result"
    }
   ],
   "source": [
    "df[:].apply(lambda r: download_img(r['img_url'], f\"{r['model'].replace(':', '_')}.jpg\"), axis=1)"
   ]
  },
  {
   "cell_type": "code",
   "execution_count": 27,
   "id": "1081d535",
   "metadata": {},
   "outputs": [],
   "source": [
    "df[['model', 'price_thb', 'overview', 'img_url']].to_csv('honda.csv', index=False)"
   ]
  }
 ],
 "metadata": {
  "kernelspec": {
   "display_name": "Python 3",
   "language": "python",
   "name": "python3"
  },
  "language_info": {
   "codemirror_mode": {
    "name": "ipython",
    "version": 3
   },
   "file_extension": ".py",
   "mimetype": "text/x-python",
   "name": "python",
   "nbconvert_exporter": "python",
   "pygments_lexer": "ipython3",
   "version": "3.8.2"
  }
 },
 "nbformat": 4,
 "nbformat_minor": 5
}
